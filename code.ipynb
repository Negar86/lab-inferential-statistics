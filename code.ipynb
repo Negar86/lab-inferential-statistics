{
 "cells": [
  {
   "cell_type": "markdown",
   "id": "79f250cd",
   "metadata": {},
   "source": [
    "# Lab | Inferential statistics"
   ]
  },
  {
   "cell_type": "markdown",
   "id": "429ab9f7",
   "metadata": {},
   "source": [
    "It is assumed that the mean systolic blood pressure is μ = 120 mm Hg. In the Honolulu Heart Study, a sample of n = 100 people had an average systolic blood pressure of 130.1 mm Hg with a standard deviation of 21.21 mm Hg. Is the group significantly different (with respect to systolic blood pressure!) from the regular population?\n",
    "\n",
    "* Set up the hypothesis test.  \n",
    "* Write down all the steps followed for setting up the test.  \n",
    "* Calculate the test statistic by hand and also code it in Python. It should be 4.76190. We will take a look at how to make decisions based on this calculated value."
   ]
  },
  {
   "cell_type": "code",
   "execution_count": 1,
   "id": "bd869e91",
   "metadata": {},
   "outputs": [],
   "source": [
    "#Libraries\n",
    "import math\n",
    "import pandas as pd\n",
    "import numpy as np\n",
    "import scipy.stats as st"
   ]
  },
  {
   "cell_type": "code",
   "execution_count": 2,
   "id": "81e0351f",
   "metadata": {},
   "outputs": [],
   "source": [
    "μ = 120 \n",
    "m = 130.1 \n",
    "n = 100\n",
    "std_sample = 21.21 "
   ]
  },
  {
   "cell_type": "markdown",
   "id": "7591c2ab",
   "metadata": {},
   "source": [
    "* Step1- Null hypothesis -> H0: μ = 120\n",
    "* Step2- Alternative hypithesis -> H1: μ != 120\n",
    "* Step3- mean tested (alternative hypothesis) is > or < then the mean of the population -> two-tailed test\n",
    "* Step4- we will use a t-test: n>30 but population variance is unknown (we have the std of sample).\n",
    "* Step5- Significant level: alpha =  0.05"
   ]
  },
  {
   "cell_type": "code",
   "execution_count": 3,
   "id": "6f39b58f",
   "metadata": {},
   "outputs": [],
   "source": [
    "alpha = 0.05"
   ]
  },
  {
   "cell_type": "code",
   "execution_count": 4,
   "id": "f91aeb1d",
   "metadata": {},
   "outputs": [
    {
     "name": "stdout",
     "output_type": "stream",
     "text": [
      "Statistic t-test: 4.7619\n"
     ]
    }
   ],
   "source": [
    "stat = (m-μ)/(std_sample/math.sqrt(n))\n",
    "print(f\"Statistic t-test: {stat:.4f}\")"
   ]
  },
  {
   "cell_type": "markdown",
   "id": "f6613121",
   "metadata": {},
   "source": [
    "* To make a decision, we compare this test statistic to the critical t-value from the t-distribution table.\n",
    "* The critical t-value for alpha=0.05 and df:n-1=99 in t-distribution table(two-tailed) is 1.984\n",
    "* 4.7619 > 1.984 so we reject null-hypothesis."
   ]
  },
  {
   "cell_type": "code",
   "execution_count": 5,
   "id": "6d9b32d3",
   "metadata": {},
   "outputs": [
    {
     "name": "stdout",
     "output_type": "stream",
     "text": [
      "Critical Value: 1.9842\n"
     ]
    }
   ],
   "source": [
    "cv = st.t.ppf(0.975,df=99) # calculate critical value by python code\n",
    "print(f\"Critical Value: {cv:.4f}\")"
   ]
  },
  {
   "cell_type": "code",
   "execution_count": 6,
   "id": "69b3b3ee",
   "metadata": {},
   "outputs": [
    {
     "name": "stdout",
     "output_type": "stream",
     "text": [
      "P-value: 0.00000656\n"
     ]
    }
   ],
   "source": [
    "p_value = st.t.sf(abs(stat), n-1)*2\n",
    "print(f\"P-value: {p_value:.8f}\")"
   ]
  },
  {
   "cell_type": "code",
   "execution_count": 7,
   "id": "9bf96f17",
   "metadata": {},
   "outputs": [
    {
     "name": "stdout",
     "output_type": "stream",
     "text": [
      "We reject the null hypothesis\n"
     ]
    }
   ],
   "source": [
    "print(\"We reject the null hypothesis\" if p_value < 0.05 else \"We are not able to reject the null hypothesis\")"
   ]
  },
  {
   "cell_type": "markdown",
   "id": "0d03107e",
   "metadata": {},
   "source": [
    "There is sufficient evidence to conclude that the mean systolic blood pressure of the group from the Honolulu Heart Study is significantly different from the mean systolic blood pressure of the regular population.\n"
   ]
  }
 ],
 "metadata": {
  "kernelspec": {
   "display_name": "Python 3 (ipykernel)",
   "language": "python",
   "name": "python3"
  },
  "language_info": {
   "codemirror_mode": {
    "name": "ipython",
    "version": 3
   },
   "file_extension": ".py",
   "mimetype": "text/x-python",
   "name": "python",
   "nbconvert_exporter": "python",
   "pygments_lexer": "ipython3",
   "version": "3.11.5"
  }
 },
 "nbformat": 4,
 "nbformat_minor": 5
}
